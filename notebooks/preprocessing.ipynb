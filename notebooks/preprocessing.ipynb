{
 "cells": [
  {
   "cell_type": "code",
   "execution_count": 1,
   "metadata": {
    "collapsed": true
   },
   "outputs": [],
   "source": [
    "from operator import attrgetter\n",
    "import spacy\n",
    "from src.features.clean import remove_html\n",
    "import numpy as np\n",
    "\n",
    "% load_ext autoreload\n",
    "% autoreload 2"
   ]
  },
  {
   "cell_type": "code",
   "execution_count": 4,
   "metadata": {
    "pycharm": {
     "name": "#%%\n"
    }
   },
   "outputs": [
    {
     "name": "stderr",
     "output_type": "stream",
     "text": [
      "2022-01-11 16:20:12.859497: W tensorflow/stream_executor/platform/default/dso_loader.cc:64] Could not load dynamic library 'cudart64_110.dll'; dlerror: cudart64_110.dll not found\n",
      "2022-01-11 16:20:12.859529: I tensorflow/stream_executor/cuda/cudart_stub.cc:29] Ignore above cudart dlerror if you do not have a GPU set up on your machine.\n"
     ]
    },
    {
     "name": "stdout",
     "output_type": "stream",
     "text": [
      "Collecting ru-core-news-md==3.2.0\n",
      "  Downloading https://github.com/explosion/spacy-models/releases/download/ru_core_news_md-3.2.0/ru_core_news_md-3.2.0-py3-none-any.whl (43.0 MB)\n",
      "Collecting pymorphy2>=0.9\n",
      "  Using cached pymorphy2-0.9.1-py3-none-any.whl (55 kB)\n",
      "Requirement already satisfied: spacy<3.3.0,>=3.2.0 in c:\\users\\uiqko\\projects\\jobviz\\venv\\lib\\site-packages (from ru-core-news-md==3.2.0) (3.2.1)\n",
      "Collecting pymorphy2-dicts-ru<3.0,>=2.4\n",
      "  Using cached pymorphy2_dicts_ru-2.4.417127.4579844-py2.py3-none-any.whl (8.2 MB)\n",
      "Collecting dawg-python>=0.7.1\n",
      "  Using cached DAWG_Python-0.7.2-py2.py3-none-any.whl (11 kB)\n",
      "Collecting docopt>=0.6\n",
      "  Using cached docopt-0.6.2.tar.gz (25 kB)\n",
      "  Preparing metadata (setup.py): started\n",
      "  Preparing metadata (setup.py): finished with status 'done'\n",
      "Requirement already satisfied: thinc<8.1.0,>=8.0.12 in c:\\users\\uiqko\\projects\\jobviz\\venv\\lib\\site-packages (from spacy<3.3.0,>=3.2.0->ru-core-news-md==3.2.0) (8.0.13)\n",
      "Requirement already satisfied: murmurhash<1.1.0,>=0.28.0 in c:\\users\\uiqko\\projects\\jobviz\\venv\\lib\\site-packages (from spacy<3.3.0,>=3.2.0->ru-core-news-md==3.2.0) (1.0.6)\n",
      "Requirement already satisfied: langcodes<4.0.0,>=3.2.0 in c:\\users\\uiqko\\projects\\jobviz\\venv\\lib\\site-packages (from spacy<3.3.0,>=3.2.0->ru-core-news-md==3.2.0) (3.3.0)\n",
      "Requirement already satisfied: numpy>=1.15.0 in c:\\users\\uiqko\\projects\\jobviz\\venv\\lib\\site-packages (from spacy<3.3.0,>=3.2.0->ru-core-news-md==3.2.0) (1.22.0)\n",
      "Requirement already satisfied: srsly<3.0.0,>=2.4.1 in c:\\users\\uiqko\\projects\\jobviz\\venv\\lib\\site-packages (from spacy<3.3.0,>=3.2.0->ru-core-news-md==3.2.0) (2.4.2)\n",
      "Requirement already satisfied: catalogue<2.1.0,>=2.0.6 in c:\\users\\uiqko\\projects\\jobviz\\venv\\lib\\site-packages (from spacy<3.3.0,>=3.2.0->ru-core-news-md==3.2.0) (2.0.6)\n",
      "Requirement already satisfied: cymem<2.1.0,>=2.0.2 in c:\\users\\uiqko\\projects\\jobviz\\venv\\lib\\site-packages (from spacy<3.3.0,>=3.2.0->ru-core-news-md==3.2.0) (2.0.6)\n",
      "Requirement already satisfied: tqdm<5.0.0,>=4.38.0 in c:\\users\\uiqko\\projects\\jobviz\\venv\\lib\\site-packages (from spacy<3.3.0,>=3.2.0->ru-core-news-md==3.2.0) (4.62.3)\n",
      "Requirement already satisfied: jinja2 in c:\\users\\uiqko\\projects\\jobviz\\venv\\lib\\site-packages (from spacy<3.3.0,>=3.2.0->ru-core-news-md==3.2.0) (3.0.3)\n",
      "Requirement already satisfied: requests<3.0.0,>=2.13.0 in c:\\users\\uiqko\\projects\\jobviz\\venv\\lib\\site-packages (from spacy<3.3.0,>=3.2.0->ru-core-news-md==3.2.0) (2.27.1)\n",
      "Requirement already satisfied: packaging>=20.0 in c:\\users\\uiqko\\projects\\jobviz\\venv\\lib\\site-packages (from spacy<3.3.0,>=3.2.0->ru-core-news-md==3.2.0) (21.3)\n",
      "Requirement already satisfied: pydantic!=1.8,!=1.8.1,<1.9.0,>=1.7.4 in c:\\users\\uiqko\\projects\\jobviz\\venv\\lib\\site-packages (from spacy<3.3.0,>=3.2.0->ru-core-news-md==3.2.0) (1.8.2)\n",
      "Requirement already satisfied: spacy-loggers<2.0.0,>=1.0.0 in c:\\users\\uiqko\\projects\\jobviz\\venv\\lib\\site-packages (from spacy<3.3.0,>=3.2.0->ru-core-news-md==3.2.0) (1.0.1)\n",
      "Requirement already satisfied: typer<0.5.0,>=0.3.0 in c:\\users\\uiqko\\projects\\jobviz\\venv\\lib\\site-packages (from spacy<3.3.0,>=3.2.0->ru-core-news-md==3.2.0) (0.4.0)\n",
      "Requirement already satisfied: pathy>=0.3.5 in c:\\users\\uiqko\\projects\\jobviz\\venv\\lib\\site-packages (from spacy<3.3.0,>=3.2.0->ru-core-news-md==3.2.0) (0.6.1)\n",
      "Requirement already satisfied: spacy-legacy<3.1.0,>=3.0.8 in c:\\users\\uiqko\\projects\\jobviz\\venv\\lib\\site-packages (from spacy<3.3.0,>=3.2.0->ru-core-news-md==3.2.0) (3.0.8)\n",
      "Requirement already satisfied: wasabi<1.1.0,>=0.8.1 in c:\\users\\uiqko\\projects\\jobviz\\venv\\lib\\site-packages (from spacy<3.3.0,>=3.2.0->ru-core-news-md==3.2.0) (0.9.0)\n",
      "Requirement already satisfied: preshed<3.1.0,>=3.0.2 in c:\\users\\uiqko\\projects\\jobviz\\venv\\lib\\site-packages (from spacy<3.3.0,>=3.2.0->ru-core-news-md==3.2.0) (3.0.6)\n",
      "Requirement already satisfied: setuptools in c:\\users\\uiqko\\projects\\jobviz\\venv\\lib\\site-packages (from spacy<3.3.0,>=3.2.0->ru-core-news-md==3.2.0) (57.0.0)\n",
      "Requirement already satisfied: blis<0.8.0,>=0.4.0 in c:\\users\\uiqko\\projects\\jobviz\\venv\\lib\\site-packages (from spacy<3.3.0,>=3.2.0->ru-core-news-md==3.2.0) (0.7.5)\n",
      "Requirement already satisfied: pyparsing!=3.0.5,>=2.0.2 in c:\\users\\uiqko\\projects\\jobviz\\venv\\lib\\site-packages (from packaging>=20.0->spacy<3.3.0,>=3.2.0->ru-core-news-md==3.2.0) (3.0.6)\n",
      "Requirement already satisfied: smart-open<6.0.0,>=5.0.0 in c:\\users\\uiqko\\projects\\jobviz\\venv\\lib\\site-packages (from pathy>=0.3.5->spacy<3.3.0,>=3.2.0->ru-core-news-md==3.2.0) (5.2.1)\n",
      "Requirement already satisfied: typing-extensions>=3.7.4.3 in c:\\users\\uiqko\\projects\\jobviz\\venv\\lib\\site-packages (from pydantic!=1.8,!=1.8.1,<1.9.0,>=1.7.4->spacy<3.3.0,>=3.2.0->ru-core-news-md==3.2.0) (4.0.1)\n",
      "Requirement already satisfied: charset-normalizer~=2.0.0 in c:\\users\\uiqko\\projects\\jobviz\\venv\\lib\\site-packages (from requests<3.0.0,>=2.13.0->spacy<3.3.0,>=3.2.0->ru-core-news-md==3.2.0) (2.0.10)\n",
      "Requirement already satisfied: urllib3<1.27,>=1.21.1 in c:\\users\\uiqko\\projects\\jobviz\\venv\\lib\\site-packages (from requests<3.0.0,>=2.13.0->spacy<3.3.0,>=3.2.0->ru-core-news-md==3.2.0) (1.26.8)\n",
      "Requirement already satisfied: idna<4,>=2.5 in c:\\users\\uiqko\\projects\\jobviz\\venv\\lib\\site-packages (from requests<3.0.0,>=2.13.0->spacy<3.3.0,>=3.2.0->ru-core-news-md==3.2.0) (3.3)\n",
      "Requirement already satisfied: certifi>=2017.4.17 in c:\\users\\uiqko\\projects\\jobviz\\venv\\lib\\site-packages (from requests<3.0.0,>=2.13.0->spacy<3.3.0,>=3.2.0->ru-core-news-md==3.2.0) (2021.10.8)\n",
      "Requirement already satisfied: colorama in c:\\users\\uiqko\\projects\\jobviz\\venv\\lib\\site-packages (from tqdm<5.0.0,>=4.38.0->spacy<3.3.0,>=3.2.0->ru-core-news-md==3.2.0) (0.4.4)\n",
      "Requirement already satisfied: click<9.0.0,>=7.1.1 in c:\\users\\uiqko\\projects\\jobviz\\venv\\lib\\site-packages (from typer<0.5.0,>=0.3.0->spacy<3.3.0,>=3.2.0->ru-core-news-md==3.2.0) (8.0.3)\n",
      "Requirement already satisfied: MarkupSafe>=2.0 in c:\\users\\uiqko\\projects\\jobviz\\venv\\lib\\site-packages (from jinja2->spacy<3.3.0,>=3.2.0->ru-core-news-md==3.2.0) (2.0.1)\n",
      "Building wheels for collected packages: docopt\n",
      "  Building wheel for docopt (setup.py): started\n",
      "  Building wheel for docopt (setup.py): finished with status 'done'\n",
      "  Created wheel for docopt: filename=docopt-0.6.2-py2.py3-none-any.whl size=13724 sha256=264b6c969bc456471d8a082bf1f60f57512d2d0dcabf52055347f4cf9cf110d2\n",
      "  Stored in directory: c:\\users\\uiqko\\appdata\\local\\pip\\cache\\wheels\\70\\4a\\46\\1309fc853b8d395e60bafaf1b6df7845bdd82c95fd59dd8d2b\n",
      "Successfully built docopt\n",
      "Installing collected packages: pymorphy2-dicts-ru, docopt, dawg-python, pymorphy2, ru-core-news-md\n",
      "Successfully installed dawg-python-0.7.2 docopt-0.6.2 pymorphy2-0.9.1 pymorphy2-dicts-ru-2.4.417127.4579844 ru-core-news-md-3.2.0\n",
      "[+] Download and installation successful\n",
      "You can now load the package via spacy.load('ru_core_news_md')\n"
     ]
    }
   ],
   "source": [
    "!python -m spacy download ru_core_news_md"
   ]
  },
  {
   "cell_type": "code",
   "execution_count": 2,
   "metadata": {
    "pycharm": {
     "name": "#%%\n"
    }
   },
   "outputs": [],
   "source": [
    "\n",
    "nlp = spacy.load('ru_core_news_md')\n",
    "\n",
    "doc = nlp(\n",
    "    'Обязанности: Своевременная подача автомобиля; Организация поездок; Планирование оптимального маршрута '\n",
    "    'передвижения с учетом особенностей дорожной ситуации; Поддержание чистоты в салоне автомобиля; Поддержание и '\n",
    "    'контроль исправного состояния автомобиля. Требования: Стаж вождения автомобиля от 5-ти лет; Наличие опыта работы '\n",
    "    'персональным водителем на автомобилях представительского класса; Водительское удостоверение категории В; '\n",
    "    'Пунктуальность, ответственность, дисциплинированность, доброжелательность. Условия: Работа на автомобиле '\n",
    "    'представительского класса; Ненормированный рабочий день, как правило воскресенье стабильно выходной  Отпуск во '\n",
    "    'время отсутствия руководителя   Прошу в сопроводительном письме указать где территориально вы проживаете '.lower()\n",
    ")"
   ]
  },
  {
   "cell_type": "code",
   "execution_count": 2,
   "outputs": [],
   "source": [
    "import spacy"
   ],
   "metadata": {
    "collapsed": false,
    "pycharm": {
     "name": "#%%\n"
    }
   }
  },
  {
   "cell_type": "code",
   "execution_count": 3,
   "outputs": [],
   "source": [
    "nlp = spacy.load('ru_core_news_md')"
   ],
   "metadata": {
    "collapsed": false,
    "pycharm": {
     "name": "#%%\n"
    }
   }
  },
  {
   "cell_type": "code",
   "execution_count": 4,
   "outputs": [],
   "source": [
    "doc = nlp('<p attr=\"val\">Привет мир</p>!')"
   ],
   "metadata": {
    "collapsed": false,
    "pycharm": {
     "name": "#%%\n"
    }
   }
  },
  {
   "cell_type": "code",
   "execution_count": 5,
   "outputs": [
    {
     "name": "stdout",
     "output_type": "stream",
     "text": [
      "< False\n",
      "p False\n",
      "attr=\"val\">Привет False\n",
      "мир</p False\n",
      "> False\n",
      "! True\n"
     ]
    }
   ],
   "source": [
    "for tok in doc:\n",
    "    print(tok.text, tok.is_punct)"
   ],
   "metadata": {
    "collapsed": false,
    "pycharm": {
     "name": "#%%\n"
    }
   }
  },
  {
   "cell_type": "code",
   "execution_count": 7,
   "outputs": [
    {
     "name": "stdout",
     "output_type": "stream",
     "text": [
      "Привет False\n",
      "мир False\n",
      "! True\n"
     ]
    }
   ],
   "source": [
    "doc = nlp(remove_html('<p attr=\"val\">Привет мир</p>!'))\n",
    "for tok in doc:\n",
    "    print(tok.text, tok.is_punct)"
   ],
   "metadata": {
    "collapsed": false,
    "pycharm": {
     "name": "#%%\n"
    }
   }
  },
  {
   "cell_type": "code",
   "execution_count": 4,
   "metadata": {
    "pycharm": {
     "name": "#%%\n"
    }
   },
   "outputs": [
    {
     "data": {
      "text/plain": [
       "array([-0.01988309,  0.        , -0.00226534, -0.02913788,  0.00833846,\n",
       "        0.        , -0.00978985, -0.03960135,  0.        ,  0.00108756,\n",
       "        0.00523152, -0.00910878, -0.04765929,  0.00898744,  0.00250398,\n",
       "        0.02227592, -0.01148476,  0.01401027,  0.        , -0.02737234,\n",
       "        0.01751405,  0.00898744,  0.00833846,  0.00833846,  0.        ,\n",
       "       -0.02737234,  0.00898744,  0.00613136, -0.01176543,  0.00705248,\n",
       "        0.00833846,  0.        ,  0.00021279,  0.        , -0.02073753,\n",
       "        0.01920758,  0.00833846,  0.00898744,  0.        ,  0.00898744,\n",
       "        0.        ,  0.01006426,  0.01376081,  0.02952036, -0.0196102 ,\n",
       "       -0.01040047,  0.00898744, -0.0116934 , -0.01157035, -0.02739305,\n",
       "        0.        ,  0.00764168,  0.00764168,  0.01141134,  0.00898744,\n",
       "        0.        , -0.01289268,  0.        ,  0.02427849,  0.        ,\n",
       "       -0.01289268,  0.        , -0.01289268,  0.        ,  0.02227592,\n",
       "        0.        ,  0.01405194,  0.00898744,  0.00113875, -0.01157035,\n",
       "       -0.02739305,  0.        , -0.00201151, -0.0018994 , -0.00728189,\n",
       "        0.        ,  0.00898744,  0.00898744, -0.00728189, -0.00707755,\n",
       "       -0.00886917,  0.        ,  0.03065028,  0.00898744,  0.00898744,\n",
       "        0.00705248, -0.01246549,  0.        ,  0.02423757,  0.00898744,\n",
       "        0.00463506,  0.00463506, -0.04089844,  0.00898744, -0.0091487 ,\n",
       "        0.00898744, -0.01659633], dtype=float32)"
      ]
     },
     "execution_count": 4,
     "metadata": {},
     "output_type": "execute_result"
    }
   ],
   "source": [
    "np.mean(list(map(attrgetter('vector'), doc)), axis=1)"
   ]
  },
  {
   "cell_type": "code",
   "execution_count": 5,
   "metadata": {
    "pycharm": {
     "name": "#%%\n"
    }
   },
   "outputs": [
    {
     "data": {
      "text/plain": [
       "array([-0.1191054 , -0.16411726, -0.36560267,  0.29166967,  0.4109263 ,\n",
       "        0.05232976, -0.20650434, -0.15334484,  0.00284027, -0.8196949 ,\n",
       "        0.18733615, -0.08808075,  0.5780531 , -0.01395735,  0.29677972,\n",
       "       -0.06810874, -0.184694  , -0.13320114, -0.4605594 , -0.13705982,\n",
       "        0.14892071,  0.324538  ,  0.42359626, -0.58037597, -0.74658483,\n",
       "       -0.31009486, -0.5068124 ,  0.72662103, -0.30160362,  0.46095592,\n",
       "        0.15747736, -0.5720956 ,  0.1787494 , -0.18124358, -0.07212427,\n",
       "        0.0450976 ,  0.3918063 ,  0.00340187, -0.88134617, -0.3742694 ,\n",
       "       -0.01283913,  0.5566952 , -0.6461731 , -0.37998885,  0.37674773,\n",
       "        0.340869  ,  0.14629763,  0.22425304, -0.02867039,  0.21361095,\n",
       "       -0.511074  ,  0.03672608, -0.5207922 , -0.335089  , -0.3028759 ,\n",
       "        0.18621327, -0.03594732,  0.03939559,  0.4225936 , -0.5270518 ,\n",
       "       -0.62738156,  0.5651568 ,  0.43691647,  0.09875705, -0.05049898,\n",
       "       -0.21782234,  0.2709053 ,  0.18158089, -0.16273092, -0.29985622,\n",
       "        0.15735842,  0.6890645 , -0.06970357, -0.10700552, -0.08914036,\n",
       "        0.2393775 , -0.6644558 , -0.13331982, -0.45271716, -0.17107934,\n",
       "       -0.48627564, -0.30164936, -0.81323946,  0.31141296, -0.05334854,\n",
       "        0.14832447, -0.16113262, -0.02784469,  0.15413252,  0.4508861 ,\n",
       "        0.03498877,  0.01042563,  0.55897623,  0.5759134 ,  0.25882164,\n",
       "       -0.22596069, -0.13450088, -0.13805103,  0.22039983, -0.10077987,\n",
       "        0.5174043 , -0.19771029, -0.6912011 ,  0.6127024 ,  0.56282234,\n",
       "       -0.1057499 ,  0.466626  ,  0.4467398 , -0.17215264,  0.61486393,\n",
       "        0.52401936, -0.47022825,  0.18309815, -0.18295377, -0.3765401 ,\n",
       "       -0.03171331, -0.05623193,  0.0934122 ,  0.14103128, -0.23267725,\n",
       "        0.5133666 ,  0.24562018,  0.38079515,  0.01739059, -0.06308096,\n",
       "       -0.2962863 , -0.5953804 ,  0.18721992,  0.3151676 , -0.12181801,\n",
       "       -0.07704929,  0.12020561,  0.26504222, -0.49062186,  0.25981018,\n",
       "       -0.25052238,  0.08435301,  0.07558285,  0.61421907,  0.16469021,\n",
       "       -0.11345465,  0.04193483,  0.5033226 , -0.19344224,  0.4127703 ,\n",
       "       -0.1628304 ,  0.17336392, -0.18151027,  0.15631601, -0.17312436,\n",
       "        0.47292987,  0.08293875, -0.0435081 ,  0.17198755,  0.2098445 ,\n",
       "        0.12614739,  0.582721  , -0.31861517, -0.03147383, -0.6845923 ,\n",
       "        0.2932464 , -0.21801123, -0.07074677,  0.15228131, -0.50684273,\n",
       "       -0.50579315, -0.2335956 ,  0.5218172 ,  0.2760444 ,  0.04592208,\n",
       "       -0.14666149, -0.29540157,  0.29315242, -0.26891547, -0.5177435 ,\n",
       "       -0.19021277, -0.402877  , -0.11489744, -0.144152  , -0.13490923,\n",
       "        0.06918318,  0.00591749, -0.23570013, -0.56558794,  0.01470564,\n",
       "        0.26601577,  0.29060125,  0.08193632, -0.28105602, -0.04530867,\n",
       "        0.5175701 , -0.01199283, -0.46222   ,  0.40725145, -0.3184092 ,\n",
       "       -0.1315623 ,  0.56603974, -0.5925622 , -0.30157578, -0.3238004 ,\n",
       "       -0.3108913 , -0.08686487, -0.36878556,  0.873723  , -0.0074226 ,\n",
       "        0.181907  , -0.5575815 , -0.3042731 ,  0.06625451, -0.37674206,\n",
       "        0.17573787, -0.4806429 ,  0.20501871, -0.1444848 , -0.04685986,\n",
       "        0.34427193, -0.0111838 , -0.5348762 , -0.10203385,  0.658243  ,\n",
       "       -0.04095573,  0.11456911,  0.5171398 , -0.0058485 , -0.03683907,\n",
       "        0.26263592, -0.23674092, -0.02065047,  0.08780307,  0.583432  ,\n",
       "        0.6568954 , -0.15407784, -0.07891442,  0.47075558,  0.19640005,\n",
       "       -0.14524585, -0.09517883,  0.12246303, -0.28253806, -0.4561939 ,\n",
       "        0.24447908,  0.80243427, -0.25447822, -0.08212493,  0.19667216,\n",
       "       -0.82629985, -0.56345224,  0.3003398 , -0.32334328, -0.17820284,\n",
       "       -0.2556988 , -0.63319653,  0.20165554, -0.2552905 ,  0.24440877,\n",
       "        0.5168896 , -0.45153022,  0.30809084,  0.05356389, -0.21804754,\n",
       "        0.23665196,  0.08831172, -0.08054157, -0.57586277, -0.47763455,\n",
       "       -0.3063011 ,  0.32728964, -0.14613783, -0.22690192,  0.14289644,\n",
       "       -0.1036028 ,  0.16264053,  0.48130998, -0.3452243 ,  0.5209323 ,\n",
       "       -0.4106259 , -0.26168126, -0.43385392, -0.14830555, -0.20561513,\n",
       "        0.27508697, -0.05115451,  0.38911507,  0.02848442, -0.0483328 ,\n",
       "       -0.76824653, -0.3147106 , -0.4108503 , -0.36371645, -0.02627102,\n",
       "        0.36696276,  0.02473781,  0.307831  ,  0.8155547 ,  0.05524449,\n",
       "       -0.34363636, -0.43402532, -0.08043712, -0.23374504, -0.01431744],\n",
       "      dtype=float32)"
      ]
     },
     "execution_count": 5,
     "metadata": {},
     "output_type": "execute_result"
    }
   ],
   "source": [
    "nlp('обязанности')[0].vector"
   ]
  },
  {
   "cell_type": "code",
   "execution_count": 28,
   "metadata": {
    "pycharm": {
     "name": "#%%\n"
    }
   },
   "outputs": [
    {
     "data": {
      "text/plain": "(97, 96)"
     },
     "execution_count": 28,
     "metadata": {},
     "output_type": "execute_result"
    }
   ],
   "source": [
    "doc.tensor.shape"
   ]
  },
  {
   "cell_type": "code",
   "execution_count": 23,
   "metadata": {
    "pycharm": {
     "name": "#%%\n"
    }
   },
   "outputs": [
    {
     "data": {
      "text/plain": [
       "MongoClient(host=['localhost:27017'], document_class=dict, tz_aware=False, connect=True, read_preference=Primary())"
      ]
     },
     "execution_count": 23,
     "metadata": {},
     "output_type": "execute_result"
    }
   ],
   "source": [
    "from src.data.vacancy import Vacancy\n",
    "from mongoengine import connect\n",
    "\n",
    "connect('jobviz')"
   ]
  },
  {
   "cell_type": "code",
   "execution_count": 25,
   "metadata": {
    "pycharm": {
     "name": "#%%\n"
    }
   },
   "outputs": [],
   "source": [
    "df = Vacancy.objects().limit(10).to_dataframe(include=['name', 'description', ])"
   ]
  },
  {
   "cell_type": "code",
   "execution_count": 32,
   "metadata": {},
   "outputs": [],
   "source": [
    "from src.features.clean import remove_html\n",
    "\n",
    "df.description = df.description.apply(remove_html)"
   ]
  },
  {
   "cell_type": "code",
   "execution_count": 33,
   "outputs": [
    {
     "data": {
      "text/plain": "        _id                                        description  \\\n0  49810439  Обязанности: Своевременная подача автомобиля; ...   \n1  49810551  Обязанности:  Уборка дома 500 кв.м., стирка, г...   \n2  49810468  Студия Красоты и здоровья Кристалл ищет парикм...   \n3  45788942  Условия: ЗП от 50 тысяч на руки (оклад 22 тыся...   \n4  49810601  Уважаемые соискатели, рассматриваются кандидат...   \n5  49810507  Логопедический Пункт 1 приглашает Администрато...   \n6  49810469  Студия Красоты и здоровья Кристалл ищет парикм...   \n7  49810426  Обязанности: выполнение услуг массажа на высок...   \n8  47003369  Медиахолдинг \"Май Медиа\" ищет менеджера по про...   \n9  49810583  Обязанности:  Проведение ветеринарных мероприя...   \n\n                                          key_skills schedule.id  \\\n0                                                 []     fullDay   \n1                     [Русский язык, Чистоплотность]     fullDay   \n2  [Пользователь ПК, Работа в команде, Грамотная ...     fullDay   \n3  [Складская логистика, Терминалы Сбора Данных, ...       shift   \n4                                                 []     fullDay   \n5  [Обучение персонала, Пользователь ПК, Организа...     fullDay   \n6  [Пользователь ПК, Работа в команде, Грамотная ...     fullDay   \n7  [антицеллюлитный, класический, спортивный, лим...     fullDay   \n8  [Прямые продажи, Телефонные переговоры, Навыки...     fullDay   \n9  [Навыки составления отчетности, Пользователь П...     fullDay   \n\n    schedule.name experience.id     experience.name employment.id  \\\n0     Полный день  between3And6       От 3 до 6 лет          full   \n1     Полный день  between1And3  От 1 года до 3 лет          full   \n2     Полный день  between1And3  От 1 года до 3 лет          full   \n3  Сменный график  noExperience           Нет опыта          full   \n4     Полный день     moreThan6         Более 6 лет          full   \n5     Полный день  between1And3  От 1 года до 3 лет          full   \n6     Полный день  between1And3  От 1 года до 3 лет          full   \n7     Полный день  between3And6       От 3 до 6 лет          full   \n8     Полный день  between1And3  От 1 года до 3 лет          full   \n9     Полный день  noExperience           Нет опыта          full   \n\n    employment.name  salary.to  ...  address.metro.line_name  \\\n0  Полная занятость    80000.0  ...                      NaN   \n1  Полная занятость   105000.0  ...            Правобережная   \n2  Полная занятость        NaN  ...                      NaN   \n3  Полная занятость    80000.0  ...                      NaN   \n4  Полная занятость        NaN  ...                      NaN   \n5  Полная занятость    30000.0  ...                      NaN   \n6  Полная занятость        NaN  ...                      NaN   \n7  Полная занятость   150000.0  ...    Люблинско-Дмитровская   \n8  Полная занятость    70000.0  ...                      NaN   \n9  Полная занятость        NaN  ...                      NaN   \n\n  address.metro.station_id address.metro.line_id  address.metro.lat  \\\n0                      NaN                   NaN                NaN   \n1                   17.242                    17          59.932430   \n2                      NaN                   NaN                NaN   \n3                      NaN                   NaN                NaN   \n4                      NaN                   NaN                NaN   \n5                      NaN                   NaN                NaN   \n6                      NaN                   NaN                NaN   \n7                   10.184                    10          55.781667   \n8                      NaN                   NaN                NaN   \n9                      NaN                   NaN                NaN   \n\n  address.metro.lng                             address.metro_stations  \\\n0               NaN                                                NaN   \n1         30.439274  [{'station_name': 'Ладожская', 'line_name': 'П...   \n2               NaN                                                NaN   \n3               NaN                                                 []   \n4               NaN                                                 []   \n5               NaN                                                 []   \n6               NaN                                                NaN   \n7         37.613889  [{'station_name': 'Достоевская', 'line_name': ...   \n8               NaN                                                 []   \n9               NaN                                                NaN   \n\n                         employer.logo_urls.90  \\\n0                                          NaN   \n1   https://hhcdn.ru/employer-logo/3262936.png   \n2                                          NaN   \n3  https://hhcdn.ru/employer-logo/4059183.jpeg   \n4  https://hhcdn.ru/employer-logo/1018568.jpeg   \n5                                          NaN   \n6                                          NaN   \n7                                          NaN   \n8   https://hhcdn.ru/employer-logo/2874648.png   \n9                                          NaN   \n\n                        employer.logo_urls.240  \\\n0                                          NaN   \n1   https://hhcdn.ru/employer-logo/3262937.png   \n2                                          NaN   \n3  https://hhcdn.ru/employer-logo/4059184.jpeg   \n4  https://hhcdn.ru/employer-logo/1018569.jpeg   \n5                                          NaN   \n6                                          NaN   \n7                                          NaN   \n8   https://hhcdn.ru/employer-logo/2874649.png   \n9                                          NaN   \n\n                         employer.logo_urls.original address.metro  \n0                                                NaN           NaN  \n1  https://hhcdn.ru/employer-logo-original/705455...           NaN  \n2                                                NaN           NaN  \n3  https://hhcdn.ru/employer-logo-original/904624...           NaN  \n4  https://hhcdn.ru/employer-logo-original/227650...           NaN  \n5                                                NaN           NaN  \n6                                                NaN           NaN  \n7                                                NaN           NaN  \n8  https://hhcdn.ru/employer-logo-original/608374...           NaN  \n9                                                NaN           NaN  \n\n[10 rows x 79 columns]",
      "text/html": "<div>\n<style scoped>\n    .dataframe tbody tr th:only-of-type {\n        vertical-align: middle;\n    }\n\n    .dataframe tbody tr th {\n        vertical-align: top;\n    }\n\n    .dataframe thead th {\n        text-align: right;\n    }\n</style>\n<table border=\"1\" class=\"dataframe\">\n  <thead>\n    <tr style=\"text-align: right;\">\n      <th></th>\n      <th>_id</th>\n      <th>description</th>\n      <th>key_skills</th>\n      <th>schedule.id</th>\n      <th>schedule.name</th>\n      <th>experience.id</th>\n      <th>experience.name</th>\n      <th>employment.id</th>\n      <th>employment.name</th>\n      <th>salary.to</th>\n      <th>...</th>\n      <th>address.metro.line_name</th>\n      <th>address.metro.station_id</th>\n      <th>address.metro.line_id</th>\n      <th>address.metro.lat</th>\n      <th>address.metro.lng</th>\n      <th>address.metro_stations</th>\n      <th>employer.logo_urls.90</th>\n      <th>employer.logo_urls.240</th>\n      <th>employer.logo_urls.original</th>\n      <th>address.metro</th>\n    </tr>\n  </thead>\n  <tbody>\n    <tr>\n      <th>0</th>\n      <td>49810439</td>\n      <td>Обязанности: Своевременная подача автомобиля; ...</td>\n      <td>[]</td>\n      <td>fullDay</td>\n      <td>Полный день</td>\n      <td>between3And6</td>\n      <td>От 3 до 6 лет</td>\n      <td>full</td>\n      <td>Полная занятость</td>\n      <td>80000.0</td>\n      <td>...</td>\n      <td>NaN</td>\n      <td>NaN</td>\n      <td>NaN</td>\n      <td>NaN</td>\n      <td>NaN</td>\n      <td>NaN</td>\n      <td>NaN</td>\n      <td>NaN</td>\n      <td>NaN</td>\n      <td>NaN</td>\n    </tr>\n    <tr>\n      <th>1</th>\n      <td>49810551</td>\n      <td>Обязанности:  Уборка дома 500 кв.м., стирка, г...</td>\n      <td>[Русский язык, Чистоплотность]</td>\n      <td>fullDay</td>\n      <td>Полный день</td>\n      <td>between1And3</td>\n      <td>От 1 года до 3 лет</td>\n      <td>full</td>\n      <td>Полная занятость</td>\n      <td>105000.0</td>\n      <td>...</td>\n      <td>Правобережная</td>\n      <td>17.242</td>\n      <td>17</td>\n      <td>59.932430</td>\n      <td>30.439274</td>\n      <td>[{'station_name': 'Ладожская', 'line_name': 'П...</td>\n      <td>https://hhcdn.ru/employer-logo/3262936.png</td>\n      <td>https://hhcdn.ru/employer-logo/3262937.png</td>\n      <td>https://hhcdn.ru/employer-logo-original/705455...</td>\n      <td>NaN</td>\n    </tr>\n    <tr>\n      <th>2</th>\n      <td>49810468</td>\n      <td>Студия Красоты и здоровья Кристалл ищет парикм...</td>\n      <td>[Пользователь ПК, Работа в команде, Грамотная ...</td>\n      <td>fullDay</td>\n      <td>Полный день</td>\n      <td>between1And3</td>\n      <td>От 1 года до 3 лет</td>\n      <td>full</td>\n      <td>Полная занятость</td>\n      <td>NaN</td>\n      <td>...</td>\n      <td>NaN</td>\n      <td>NaN</td>\n      <td>NaN</td>\n      <td>NaN</td>\n      <td>NaN</td>\n      <td>NaN</td>\n      <td>NaN</td>\n      <td>NaN</td>\n      <td>NaN</td>\n      <td>NaN</td>\n    </tr>\n    <tr>\n      <th>3</th>\n      <td>45788942</td>\n      <td>Условия: ЗП от 50 тысяч на руки (оклад 22 тыся...</td>\n      <td>[Складская логистика, Терминалы Сбора Данных, ...</td>\n      <td>shift</td>\n      <td>Сменный график</td>\n      <td>noExperience</td>\n      <td>Нет опыта</td>\n      <td>full</td>\n      <td>Полная занятость</td>\n      <td>80000.0</td>\n      <td>...</td>\n      <td>NaN</td>\n      <td>NaN</td>\n      <td>NaN</td>\n      <td>NaN</td>\n      <td>NaN</td>\n      <td>[]</td>\n      <td>https://hhcdn.ru/employer-logo/4059183.jpeg</td>\n      <td>https://hhcdn.ru/employer-logo/4059184.jpeg</td>\n      <td>https://hhcdn.ru/employer-logo-original/904624...</td>\n      <td>NaN</td>\n    </tr>\n    <tr>\n      <th>4</th>\n      <td>49810601</td>\n      <td>Уважаемые соискатели, рассматриваются кандидат...</td>\n      <td>[]</td>\n      <td>fullDay</td>\n      <td>Полный день</td>\n      <td>moreThan6</td>\n      <td>Более 6 лет</td>\n      <td>full</td>\n      <td>Полная занятость</td>\n      <td>NaN</td>\n      <td>...</td>\n      <td>NaN</td>\n      <td>NaN</td>\n      <td>NaN</td>\n      <td>NaN</td>\n      <td>NaN</td>\n      <td>[]</td>\n      <td>https://hhcdn.ru/employer-logo/1018568.jpeg</td>\n      <td>https://hhcdn.ru/employer-logo/1018569.jpeg</td>\n      <td>https://hhcdn.ru/employer-logo-original/227650...</td>\n      <td>NaN</td>\n    </tr>\n    <tr>\n      <th>5</th>\n      <td>49810507</td>\n      <td>Логопедический Пункт 1 приглашает Администрато...</td>\n      <td>[Обучение персонала, Пользователь ПК, Организа...</td>\n      <td>fullDay</td>\n      <td>Полный день</td>\n      <td>between1And3</td>\n      <td>От 1 года до 3 лет</td>\n      <td>full</td>\n      <td>Полная занятость</td>\n      <td>30000.0</td>\n      <td>...</td>\n      <td>NaN</td>\n      <td>NaN</td>\n      <td>NaN</td>\n      <td>NaN</td>\n      <td>NaN</td>\n      <td>[]</td>\n      <td>NaN</td>\n      <td>NaN</td>\n      <td>NaN</td>\n      <td>NaN</td>\n    </tr>\n    <tr>\n      <th>6</th>\n      <td>49810469</td>\n      <td>Студия Красоты и здоровья Кристалл ищет парикм...</td>\n      <td>[Пользователь ПК, Работа в команде, Грамотная ...</td>\n      <td>fullDay</td>\n      <td>Полный день</td>\n      <td>between1And3</td>\n      <td>От 1 года до 3 лет</td>\n      <td>full</td>\n      <td>Полная занятость</td>\n      <td>NaN</td>\n      <td>...</td>\n      <td>NaN</td>\n      <td>NaN</td>\n      <td>NaN</td>\n      <td>NaN</td>\n      <td>NaN</td>\n      <td>NaN</td>\n      <td>NaN</td>\n      <td>NaN</td>\n      <td>NaN</td>\n      <td>NaN</td>\n    </tr>\n    <tr>\n      <th>7</th>\n      <td>49810426</td>\n      <td>Обязанности: выполнение услуг массажа на высок...</td>\n      <td>[антицеллюлитный, класический, спортивный, лим...</td>\n      <td>fullDay</td>\n      <td>Полный день</td>\n      <td>between3And6</td>\n      <td>От 3 до 6 лет</td>\n      <td>full</td>\n      <td>Полная занятость</td>\n      <td>150000.0</td>\n      <td>...</td>\n      <td>Люблинско-Дмитровская</td>\n      <td>10.184</td>\n      <td>10</td>\n      <td>55.781667</td>\n      <td>37.613889</td>\n      <td>[{'station_name': 'Достоевская', 'line_name': ...</td>\n      <td>NaN</td>\n      <td>NaN</td>\n      <td>NaN</td>\n      <td>NaN</td>\n    </tr>\n    <tr>\n      <th>8</th>\n      <td>47003369</td>\n      <td>Медиахолдинг \"Май Медиа\" ищет менеджера по про...</td>\n      <td>[Прямые продажи, Телефонные переговоры, Навыки...</td>\n      <td>fullDay</td>\n      <td>Полный день</td>\n      <td>between1And3</td>\n      <td>От 1 года до 3 лет</td>\n      <td>full</td>\n      <td>Полная занятость</td>\n      <td>70000.0</td>\n      <td>...</td>\n      <td>NaN</td>\n      <td>NaN</td>\n      <td>NaN</td>\n      <td>NaN</td>\n      <td>NaN</td>\n      <td>[]</td>\n      <td>https://hhcdn.ru/employer-logo/2874648.png</td>\n      <td>https://hhcdn.ru/employer-logo/2874649.png</td>\n      <td>https://hhcdn.ru/employer-logo-original/608374...</td>\n      <td>NaN</td>\n    </tr>\n    <tr>\n      <th>9</th>\n      <td>49810583</td>\n      <td>Обязанности:  Проведение ветеринарных мероприя...</td>\n      <td>[Навыки составления отчетности, Пользователь П...</td>\n      <td>fullDay</td>\n      <td>Полный день</td>\n      <td>noExperience</td>\n      <td>Нет опыта</td>\n      <td>full</td>\n      <td>Полная занятость</td>\n      <td>NaN</td>\n      <td>...</td>\n      <td>NaN</td>\n      <td>NaN</td>\n      <td>NaN</td>\n      <td>NaN</td>\n      <td>NaN</td>\n      <td>NaN</td>\n      <td>NaN</td>\n      <td>NaN</td>\n      <td>NaN</td>\n      <td>NaN</td>\n    </tr>\n  </tbody>\n</table>\n<p>10 rows × 79 columns</p>\n</div>"
     },
     "execution_count": 33,
     "metadata": {},
     "output_type": "execute_result"
    }
   ],
   "source": [
    "df"
   ],
   "metadata": {
    "collapsed": false,
    "pycharm": {
     "name": "#%%\n"
    }
   }
  },
  {
   "cell_type": "code",
   "execution_count": 40,
   "outputs": [
    {
     "data": {
      "text/plain": "10026568143450433331"
     },
     "execution_count": 40,
     "metadata": {},
     "output_type": "execute_result"
    }
   ],
   "source": [
    "s = 'привет'\n",
    "d = nlp(s)\n",
    "\n",
    "d[0].orth"
   ],
   "metadata": {
    "collapsed": false,
    "pycharm": {
     "name": "#%%\n"
    }
   }
  },
  {
   "cell_type": "code",
   "execution_count": 42,
   "outputs": [
    {
     "data": {
      "text/plain": "'привет'"
     },
     "execution_count": 42,
     "metadata": {},
     "output_type": "execute_result"
    }
   ],
   "source": [
    "nlp.vocab[d[0].orth].text"
   ],
   "metadata": {
    "collapsed": false,
    "pycharm": {
     "name": "#%%\n"
    }
   }
  },
  {
   "cell_type": "code",
   "execution_count": 43,
   "outputs": [],
   "source": [
    "import pandas as pd\n",
    "\n",
    "df: pd.DataFrame = Vacancy.objects().to_dataframe(include=['description'])"
   ],
   "metadata": {
    "collapsed": false,
    "pycharm": {
     "name": "#%%\n"
    }
   }
  },
  {
   "cell_type": "code",
   "execution_count": 53,
   "outputs": [],
   "source": [
    "df.description = df.description.map(remove_html)"
   ],
   "metadata": {
    "collapsed": false,
    "pycharm": {
     "name": "#%%\n"
    }
   }
  },
  {
   "cell_type": "code",
   "execution_count": 44,
   "outputs": [
    {
     "data": {
      "text/plain": "(36257, 1)"
     },
     "execution_count": 44,
     "metadata": {},
     "output_type": "execute_result"
    }
   ],
   "source": [
    "df.shape"
   ],
   "metadata": {
    "collapsed": false,
    "pycharm": {
     "name": "#%%\n"
    }
   }
  },
  {
   "cell_type": "code",
   "execution_count": 54,
   "outputs": [
    {
     "data": {
      "text/plain": "description    8914\ndtype: int64"
     },
     "execution_count": 54,
     "metadata": {},
     "output_type": "execute_result"
    }
   ],
   "source": [
    "df.applymap(len).max()"
   ],
   "metadata": {
    "collapsed": false,
    "pycharm": {
     "name": "#%%\n"
    }
   }
  },
  {
   "cell_type": "code",
   "execution_count": 58,
   "outputs": [
    {
     "data": {
      "text/plain": "26578"
     },
     "execution_count": 58,
     "metadata": {},
     "output_type": "execute_result"
    }
   ],
   "source": [
    "df.description.map(len).idxmax()"
   ],
   "metadata": {
    "collapsed": false,
    "pycharm": {
     "name": "#%%\n"
    }
   }
  },
  {
   "cell_type": "code",
   "execution_count": 62,
   "outputs": [],
   "source": [],
   "metadata": {
    "collapsed": false,
    "pycharm": {
     "name": "#%%\n"
    }
   }
  },
  {
   "cell_type": "code",
   "execution_count": 63,
   "outputs": [
    {
     "data": {
      "text/plain": "'Обязанности: \\u200b\\u200b\\u200b\\u200b\\u200b\\u200b Выполнение функций технического заказчика по договорам для ведущих застройщиков Москвы, М.О. и прочих регионов РФ, а так же при исполнении гос. контрактов на ПИР для различных объектов нового строительства, реконструкций, кап. ремонтов ОКС, реставраций ОКН: - Сопровождение проектов по сбору ИРД, начиная с ПЗЗ, ППТ, ПМТ и ГПЗУ до сдачи объектов в эксплуатацию (тех планы, получение ЗОС, РВ, регистрация в Росреестре, получения почтового адреса) (полный цикл проекта); - Сбор и анализ исходной информации по проектам (перечень ограничений, допустимые параметры строительства и пр.), снятие и корректировка ограничений ЗУ (охранные, санитарно-защитные зоны, зоны охраны ОКН, ТУ на вынос и перекладки сетей, корректировки ЛГР, сокращения СЗЗ (ФБУЗ, РПН), постановка на учет и ликвидация ОПО в РТН и т.д.), организация оценки земельных участков на предмет параметров застройки и инженерного обеспечения будущего объекта, организация изменения ВРИ земельных участков; - Разработка календарных планов реализации ПИР и формировании бюджета проекта по ПИР (в части согласований, по проектным работам и функциям технического заказчика) на этапе оценки перспективности проектов приветствуется, а также, практика разработки схем (графиков, бюджетов) получения градостроительной документации, исходно-разрешительной документации для обеспечения реализации всех этапов девелоперских проектов (новое стр-во, реконструкция, капитальные ремонты, инж. сети, благоустройство, реставрация ОКН, снос), опыт подготовки предложений по оптимизации бюджета и сроков выполнения ПИР по проекту, опыт формирование предложений по вариантам решения задач с оценкой рисков, сроков и бюджета в рамках задач по ПИР по проекту- будет Вашим конкурентным преимуществом; - Получение оптимальных ТУ по инженерным сетям (ТС, НВК, ГСН, ЭОМ, СС и др.) – подключения, перекладки, работы в тех. зонах сетей , СТУ по пож. безопасности и парковкам, согласование АГР, АГО, корректировки ГПЗУ, заключение ДАЗ и доп. соглашений к ним; - Заказ и получение результатов необходимых изысканий, проверка результатов инженерных изысканий и проектных решений и утверждение у заказчика (в процессе проектирования), организация и контроль корректировок проектных решений; - Подготовка и направление обращений в государственные учреждения (в том числе через порталы гос. услуг), сопровождение получения согласований ИРД и ПД в установленном порядке с необходимыми органами государственной власти Москвы, М.О., РФ (в том числе, электронным документооборотом), прохождение государственных и негосударственных экспертиз по ПД, получение разрешений на строительство (реконструкцию), открытие/закрытие ордеров на земляные работы, разрешений на вывоз отходов, порубочных билетов и прочих разрешений ОИВ и надзорных служб на проведение СМР; - Разработка и утверждение технических заданий для ПИРы для проектирования объектов, организация подготовки договоров на ПИРы с коммерческими проектными и изыскательскими организациями и прочими городскими структурами, заказ и контроль своевременного выполнения всех видов инженерных изысканий, организация проведения экспертиз к результатам инженерных изысканий, хорошее знание требований 87-ПП РФ по комплектности и составу ПД, контроль качества проектных работ и соблюдения графика, приемка результатов ПИР, контроль исполнения протоколов совещаний по проектированию, ведения графика ПИР и согласований ПД; - Участие в совещаниях и переговоры, консультации с органами исполнительной власти, местного самоуправления, надзорными и экспертными службами и контрагентами в рамках направлений работы по Вашим проектам; - Отслеживание, фиксирование и применение изменений действующего законодательства РФ, г. Москвы, М.О., административных регламентов, правил и порядков осуществления деятельности органов исполнительной власти (ОИВ), местного самоуправления и надзорных служб в рамках функциональных задач по проекту; - Организация и контроль ведение авторского и технического надзора на объектах, координация выполнения авторского и технического надзора на объектах. Требования: - базовое профессиональное инженерное образование (ПГС, ГСХ, ГМУ, ГК) + дополнительное юридическое образование (желательно); - наличие практических знаний регламентов, процессов и процедур согласований ПД и оформления пакета документов на проведение смр, ввод объекта в эксплуатацию (для Москвы, М.О.. прочих регионов РФ); - умение читать проектную документацию: СГП, СПС, СПОЗУ, АР, КР и др. (обязательно); - опыт работы на аналогичной должности от 3-х лет в девелоперских, строительных, в службе заказчика/технического заказчика (либо фриланс.) – очень желательно; - знание этапов проектирования, понимание изыскательских работ, значение требований и правил согласования ПД и оформления разрешений на проведение СМР (в том числе в г. Москве и М.О.), знание специфики получения ИРД, ТУ и согласований, разрешений, заключений, хорошее знание согласующих инстанций Москвы, М.О. и их требований, работа с ИСОГД; знание всех этапов реализации строительных объектов, знание технологических цепочек капитального строительства, монтажа оборудования, пнр и сдачи объекта (обязательно) - (прохождение теста на собеседовании по данной теме обязательно, \"разбор по функциям заказчика\" 1-2 предложенных объектов - обязательно); - опыт оформления документации по земельным участкам, ГПЗУ, сопровождения кадастровых работ, прохождения государственной экспертизы, государственной экологической экспертизы, получения разрешения на строительство, зос, разрешения на ввод объекта в эксплуатацию; - хорошие навыки деловой переписки, ведения отчетность по объекту, грамотное написание официальных писем, грамотная речь, понимание используемой технической терминологии (обязательно); - самостоятельное ведения документооборота в рамках работы по своим проектам, аккуратность и пунктуальность в учете в работе с документами и файлами (очень желательно); - хорошее понимание функций всех участников процесса: Застройщик, Заказчик, Генподрядчик, Субподрядчик, Проектировщик, и т.п.; уверенные знания в области проектных работ - понимание последовательности проектирования (ИРД, ПД, РД, ИИ, исполнительная документация), выстраивание работы генпроектировщика и субпроектировщиков и приемка результатов их ПИР работ; знание этапов проектирования, реализации строительных объектов; - наличие наработанных связей в среде проектировщиков и изыскателей, привлекаемых для выполнения изысканий и разработки различных разделов ПД (очень желательно), опыт выполнения контроля за соблюдением условий и сроков договоров на ПИРы, координации работ специалистов –исполнителей ПИР по направлениям, опыт управления рабочими группами, умение организовать работу с удаленной работой части специалистов (обязательно); - хорошее знание нормативной документации в области проектирования, строительства: умение быстро найти нужный норматив и требований норматива по ситуации в системах \"Гарант\", \"Консультант\" и др., наличие знаний основных положений законодательства г. Москвы в области градостроительной деятельности, административных регламентов и процедур органов исполнительной власти (ОИВ) г. Москва – очень желательно; - аналитический склад ума, коммуникабельность, инициативность, ответственность, аккуратность и пунктуальность в выполнении задач в сроки, поставленные руководством компании и заказчиками проектов, нацеленность на результат, высокая производительность в работе, готовность работать в режиме многозадачности, стрессоустойчивость, отсутствие комплексов в работе с людьми (как заказчиками, так и исполнителями), самодисциплина, высокая работоспособность, умение работать в команде на общий результат, энергичность, высокий КПД в работе, способность находить контакт с людьми и добиваться поставленных задач, внимательность (очень желательны); - желание кандидата \"расти\" профессионально, вести сложные и ответственные проекты и желание зарабатывать больше приветствуются и всячески поощряются; - опытный пользователь ПО: MS Office (Word, Excel) (обязательно), MS Project, AutoCad (желательно); Условия: - достойная оплата труда, прозрачные мотивационные финансовые условия; - интересные сложные современные проекты девелопмента и редевелопмента в г. Москва, М.О. и прочих регионов РФ; - работа в стабильно развивающейся компании, карьерный рост, развитие и обучение в работе; - работа в дружной команде с профессиональными специалистами (инженерами, юристами, управленцами) в сфере девелопмента и и редевелопмента - место работы в центре Москвы: ТЦ «ТРИ Д», м. Марксистская / м. Нижегородская (5-7 минут транспортом), современный, комфортный офис; - оформление согласно ТК РФ и полное соблюдение ТК РФ в трудовых отношениях; - предоставление корпоративной мобильной связи, компенсация расходов на транспорт; - график работы: 5/2 с 9.00 до 18.00; - условия оплаты обсуждаются индивидуально с успешным кандидатом - оклад +%; - ДМС после полугода работы в компании.'"
     },
     "execution_count": 63,
     "metadata": {},
     "output_type": "execute_result"
    }
   ],
   "source": [
    "df.loc[26578][0]"
   ],
   "metadata": {
    "collapsed": false,
    "pycharm": {
     "name": "#%%\n"
    }
   }
  },
  {
   "cell_type": "code",
   "execution_count": 61,
   "outputs": [],
   "source": [
    "import re\n",
    "\n",
    "toks = re.findall('\\w+', df.loc[26578][0])"
   ],
   "metadata": {
    "collapsed": false,
    "pycharm": {
     "name": "#%%\n"
    }
   }
  },
  {
   "cell_type": "code",
   "execution_count": 64,
   "outputs": [
    {
     "data": {
      "text/plain": "1099"
     },
     "execution_count": 64,
     "metadata": {},
     "output_type": "execute_result"
    }
   ],
   "source": [
    "len(toks)"
   ],
   "metadata": {
    "collapsed": false,
    "pycharm": {
     "name": "#%%\n"
    }
   }
  },
  {
   "cell_type": "code",
   "execution_count": 8,
   "outputs": [
    {
     "data": {
      "text/plain": "{'а',\n 'будем',\n 'будет',\n 'будете',\n 'будешь',\n 'буду',\n 'будут',\n 'будучи',\n 'будь',\n 'будьте',\n 'бы',\n 'был',\n 'была',\n 'были',\n 'было',\n 'быть',\n 'в',\n 'вам',\n 'вами',\n 'вас',\n 'весь',\n 'во',\n 'вот',\n 'все',\n 'всего',\n 'всей',\n 'всем',\n 'всеми',\n 'всему',\n 'всех',\n 'всею',\n 'всея',\n 'всю',\n 'вся',\n 'всё',\n 'всём',\n 'вы',\n 'да',\n 'для',\n 'до',\n 'его',\n 'едим',\n 'едят',\n 'ее',\n 'ей',\n 'ел',\n 'ела',\n 'ем',\n 'ему',\n 'емъ',\n 'если',\n 'ест',\n 'есть',\n 'ешь',\n 'еще',\n 'ещё',\n 'ею',\n 'её',\n 'же',\n 'за',\n 'и',\n 'из',\n 'или',\n 'им',\n 'ими',\n 'имъ',\n 'их',\n 'к',\n 'как',\n 'кем',\n 'ко',\n 'когда',\n 'кого',\n 'ком',\n 'кому',\n 'комья',\n 'которая',\n 'которого',\n 'которое',\n 'которой',\n 'котором',\n 'которому',\n 'которою',\n 'которую',\n 'которые',\n 'который',\n 'которым',\n 'которыми',\n 'которых',\n 'кто',\n 'меня',\n 'мне',\n 'мной',\n 'мною',\n 'мог',\n 'моги',\n 'могите',\n 'могла',\n 'могли',\n 'могло',\n 'могу',\n 'могут',\n 'мое',\n 'моего',\n 'моей',\n 'моем',\n 'моему',\n 'моею',\n 'можем',\n 'может',\n 'можете',\n 'можешь',\n 'мои',\n 'моим',\n 'моими',\n 'моих',\n 'мой',\n 'мочь',\n 'мою',\n 'моя',\n 'моё',\n 'моём',\n 'мы',\n 'на',\n 'нам',\n 'нами',\n 'нас',\n 'наса',\n 'наш',\n 'наша',\n 'наше',\n 'нашего',\n 'нашей',\n 'нашем',\n 'нашему',\n 'нашею',\n 'наши',\n 'нашим',\n 'нашими',\n 'наших',\n 'нашу',\n 'не',\n 'него',\n 'нее',\n 'ней',\n 'нем',\n 'нему',\n 'нет',\n 'нею',\n 'неё',\n 'ним',\n 'ними',\n 'них',\n 'но',\n 'нём',\n 'о',\n 'об',\n 'один',\n 'одна',\n 'одни',\n 'одним',\n 'одними',\n 'одних',\n 'одно',\n 'одного',\n 'одной',\n 'одном',\n 'одному',\n 'одною',\n 'одну',\n 'он',\n 'она',\n 'оне',\n 'они',\n 'оно',\n 'от',\n 'по',\n 'при',\n 'с',\n 'сам',\n 'сама',\n 'сами',\n 'самим',\n 'самими',\n 'самих',\n 'само',\n 'самого',\n 'самом',\n 'самому',\n 'саму',\n 'свое',\n 'своего',\n 'своей',\n 'своем',\n 'своему',\n 'своею',\n 'свои',\n 'своим',\n 'своими',\n 'своих',\n 'свой',\n 'свою',\n 'своя',\n 'своё',\n 'своём',\n 'себе',\n 'себя',\n 'собой',\n 'собою',\n 'та',\n 'так',\n 'такая',\n 'такие',\n 'таким',\n 'такими',\n 'таких',\n 'такого',\n 'такое',\n 'такой',\n 'таком',\n 'такому',\n 'такою',\n 'такую',\n 'те',\n 'тебе',\n 'тебя',\n 'тем',\n 'теми',\n 'тех',\n 'то',\n 'тобой',\n 'тобою',\n 'того',\n 'той',\n 'только',\n 'том',\n 'томах',\n 'тому',\n 'тот',\n 'тою',\n 'ту',\n 'ты',\n 'у',\n 'уже',\n 'чего',\n 'чем',\n 'чему',\n 'что',\n 'чтобы',\n 'чём',\n 'эта',\n 'эти',\n 'этим',\n 'этими',\n 'этих',\n 'это',\n 'этого',\n 'этой',\n 'этом',\n 'этому',\n 'этот',\n 'этою',\n 'эту',\n 'я'}"
     },
     "execution_count": 8,
     "metadata": {},
     "output_type": "execute_result"
    }
   ],
   "source": [
    "nlp.Defaults.stop_words"
   ],
   "metadata": {
    "collapsed": false,
    "pycharm": {
     "name": "#%%\n"
    }
   }
  },
  {
   "cell_type": "code",
   "execution_count": 38,
   "outputs": [
    {
     "data": {
      "text/plain": "array([ 4.58010919e-02,  8.69858146e-01, -1.62920266e-01,  7.47544095e-02,\n        1.98092774e-01, -3.56788218e-01, -2.79213935e-01,  2.66844600e-01,\n        2.39079997e-01,  1.40115246e-01,  4.31698561e-02, -3.53502110e-02,\n       -3.55942249e-01,  1.32684618e-01,  1.38216883e-01, -2.40492195e-01,\n       -3.08985591e-01,  1.95398793e-01,  1.31086648e-01,  7.97636360e-02,\n        8.49877894e-02, -1.25370063e-02, -4.59028967e-02,  2.01247826e-01,\n        3.21312606e-01,  3.07695568e-01,  4.22754474e-02, -7.62399197e-01,\n       -4.70209926e-01,  3.73112075e-02, -3.29722911e-01, -1.22051969e-01,\n       -7.53759921e-01, -3.22171658e-01,  1.12429924e-01,  6.14879746e-03,\n       -3.07813883e-01, -1.51750296e-01,  1.42015278e-01,  2.83567101e-01,\n        6.43486902e-02, -5.28099686e-02,  2.00429872e-01, -3.09738755e-01,\n       -2.20154166e-01, -2.62519896e-01, -3.20098996e-01, -4.77824569e-01,\n        2.80545000e-02,  2.26785600e-01, -2.78403491e-01,  1.02936909e-01,\n       -1.17708027e-01,  6.40926138e-02,  1.38331071e-01,  6.01890795e-02,\n        1.44212067e-01,  1.74331799e-01,  9.51019898e-02,  4.83361655e-04,\n        1.57454107e-02,  1.26055062e-01,  2.20760018e-01, -1.69914633e-01,\n        8.83228779e-02,  2.20621541e-01,  5.84582053e-03,  1.61966532e-01,\n        1.04731850e-01, -3.13013904e-02,  5.48452996e-02, -7.43473694e-02,\n        3.59968305e-01, -2.66709983e-01, -3.78482081e-02, -2.57862080e-02,\n       -3.30279380e-01, -1.26090348e-01, -2.14710817e-01, -9.47215408e-02,\n        3.85348976e-01, -1.82025298e-01, -6.69590710e-03,  7.95860067e-02,\n       -2.60625243e-01,  2.23266557e-02,  4.34603274e-01, -1.76599458e-01,\n       -1.34096861e-01,  1.19134095e-02, -6.00633442e-01,  1.56473406e-02,\n        1.64083794e-01, -1.77669212e-01, -8.56861174e-02, -6.66065142e-03,\n       -9.05115753e-02, -4.35865745e-02,  3.59981181e-03,  3.89099985e-01,\n        4.14223939e-01, -6.56921193e-02,  1.90469995e-01,  1.61131043e-02,\n       -1.35371655e-01, -1.46672517e-01,  1.28599271e-01,  2.88352463e-02,\n       -2.34072268e-01, -1.03026062e-01, -4.53229621e-02, -1.80138230e-01,\n       -2.47627169e-01, -2.45549113e-01,  1.03569262e-01, -9.64311045e-03,\n       -5.01946360e-02, -3.20421368e-01, -1.31919309e-01, -3.23204339e-01,\n        8.82701278e-02,  1.69191491e-02, -3.95883210e-02, -3.15716535e-01,\n        1.13309093e-01,  4.73586842e-02, -1.00913085e-01, -2.44202659e-01,\n       -1.82129428e-01,  3.53823245e-01,  3.42301518e-01,  7.85946399e-02,\n       -3.83881211e-01,  3.40857580e-02,  5.45604452e-02,  2.20579267e-01,\n       -1.27153367e-01,  1.03472009e-01,  5.69807142e-02,  1.83907360e-01,\n        2.19624043e-02,  1.54003799e-01,  1.76120609e-01,  7.53709674e-02,\n        1.58348560e-01,  2.76169032e-01, -1.61220059e-01, -9.79085714e-02,\n        3.44530851e-01,  5.05850241e-02, -3.37103844e-01, -1.81447491e-01,\n        1.53714582e-01,  1.08152740e-01,  4.63122725e-02, -4.57303554e-01,\n       -1.46091357e-01,  1.19247057e-01,  4.96968776e-01,  2.25739345e-01,\n       -4.80581701e-01, -4.51465882e-02,  9.23712701e-02, -3.98743451e-01,\n        9.62669477e-02,  2.55398929e-01, -2.08734766e-01,  9.69569609e-02,\n       -2.11866975e-01,  6.76736832e-02,  6.64208899e-04, -8.51419121e-02,\n       -1.89879257e-02, -4.30609792e-01,  2.76784301e-01,  1.02624558e-01,\n       -8.16513449e-02, -1.27138942e-01,  2.86746204e-01,  9.24105793e-02,\n        2.00095132e-01,  7.16413036e-02, -4.71035153e-01, -1.25956044e-01,\n        1.89229678e-02, -1.60236731e-01,  8.13595772e-01,  2.68084198e-01,\n        1.80171564e-01, -9.32313725e-02, -4.13616449e-01, -3.47171426e-01,\n        2.85710841e-02,  1.44606695e-01,  5.63580617e-02, -5.21760993e-02,\n       -3.09512824e-01, -6.92076012e-02, -1.50200740e-01,  4.39759433e-01,\n       -1.95702747e-01, -4.45610493e-01,  7.23593175e-01,  2.63497621e-01,\n       -2.00212210e-01, -1.63211644e-01, -1.52339339e-01, -3.22985910e-02,\n        1.17763162e-01,  3.42825055e-02,  2.37966582e-01, -1.94843262e-01,\n       -3.73260230e-02,  6.53997436e-03, -1.05878621e-01, -1.41767338e-01,\n       -3.48670214e-01, -1.96646675e-01, -8.23932812e-02, -1.29505396e-01,\n       -4.23728913e-01, -7.76032731e-02,  7.29793757e-02, -5.53833731e-02,\n       -2.65399873e-01, -1.89123955e-02, -2.98850477e-01, -3.72213393e-01,\n       -2.05381528e-01,  1.14332691e-01,  8.83002728e-02,  5.25151528e-02,\n        2.21897308e-02, -1.75271109e-01, -1.73126429e-01,  1.95476741e-01,\n       -2.28176713e-02,  4.04679567e-01,  4.26041722e-01,  1.69605672e-01,\n       -8.40343237e-02, -2.24003270e-01,  1.41158417e-01,  1.49354823e-02,\n       -1.74050748e-01, -8.80303308e-02, -3.33109200e-02,  1.03131548e-01,\n       -1.46819606e-01,  7.09647834e-01,  3.21876258e-01, -5.81414215e-02,\n        1.98438719e-01,  9.00314469e-03,  1.32295862e-01,  1.38528004e-01,\n       -1.76338226e-01, -2.75802881e-01, -3.43246847e-01, -2.26168126e-01,\n       -1.65445507e-01,  1.96519867e-01,  5.60328886e-02, -1.29165173e-01,\n       -2.91085303e-01,  8.66233855e-02, -1.70909807e-01,  2.67692022e-02,\n       -8.14597011e-02,  3.02412957e-01,  3.22431684e-01,  1.36400476e-01,\n        1.13702334e-01,  1.83861405e-02,  6.09137565e-02, -1.95038378e-01,\n       -2.12618839e-02, -3.16843763e-02, -3.32799666e-02,  3.95710319e-01,\n        8.15371722e-02,  3.75827476e-02, -3.05813998e-01, -2.15329543e-01,\n        1.91949695e-01, -1.16436772e-01, -2.08498016e-01, -4.12027724e-02,\n       -2.99547642e-01, -3.20820808e-01, -1.80401415e-01, -7.99187347e-02,\n        9.39189047e-02,  1.06625386e-01, -1.12056017e-01,  5.80643155e-02,\n        2.27422938e-01,  3.51579130e-01, -1.82563499e-01, -3.21755379e-01],\n      dtype=float32)"
     },
     "execution_count": 38,
     "metadata": {},
     "output_type": "execute_result"
    }
   ],
   "source": [
    "nlp.vocab.vectors[list(nlp.vocab.vectors.keys())[1]]"
   ],
   "metadata": {
    "collapsed": false,
    "pycharm": {
     "name": "#%%\n"
    }
   }
  },
  {
   "cell_type": "code",
   "execution_count": 35,
   "outputs": [
    {
     "data": {
      "text/plain": "500002"
     },
     "execution_count": 35,
     "metadata": {},
     "output_type": "execute_result"
    }
   ],
   "source": [
    "len(nlp.vocab.vectors.keys())"
   ],
   "metadata": {
    "collapsed": false,
    "pycharm": {
     "name": "#%%\n"
    }
   }
  },
  {
   "cell_type": "code",
   "execution_count": 59,
   "outputs": [
    {
     "name": "stdout",
     "output_type": "stream",
     "text": [
      "\t\n",
      "\n",
      "\n",
      " \n",
      "  \n",
      "!\n",
      "!!\n",
      "!!!\n",
      "!!!!\n",
      "!!!!!\n",
      "!!!!!!\n",
      "!!!!!!!\n",
      "!!!!!!!!!!!!!!!\n",
      "!!!!!!!!!!!!!!!!!!!!\n",
      "!.\n",
      "!..\n",
      "!...\n",
      "!?\n",
      "!?!?!?\n",
      "!?.\n",
      "!???\n",
      "!Ri\n",
      "!ri\n",
      "!»и\n",
      "\"\n",
      "\",и\n",
      "\",у\n",
      "\"Xxxxx\n",
      "\"»и\n",
      "\"Симпсонам\n",
      "\"от\n",
      "\"по\n",
      "\"симпсонам\n",
      "\"—и\n",
      "#\n",
      "##ы\n",
      "#gvlifestyle\n",
      "#xxxx\n",
      "$\n",
      "$$.\n",
      "$ap\n",
      "%\n",
      "&\n",
      "&CO\n",
      "&Co\n",
      "&Go\n",
      "&LV\n",
      "&M.\n",
      "&NN\n",
      "&Sp\n",
      "&T.\n",
      "&co\n",
      "&nn\n",
      "&Ко\n",
      "'\n",
      "''\n",
      "'-(\n",
      "'-)\n",
      "'15\n",
      "'18\n",
      "'97\n",
      "'Or\n",
      "'S\n",
      "'X\n",
      "'an\n",
      "'im\n",
      "'ll\n",
      "'re\n",
      "'s\n",
      "'sh\n",
      "'ve\n",
      "'x\n",
      "'Ив\n",
      "'Ок\n",
      "'Ор\n",
      "'Ши\n",
      "'ат\n",
      "'ор\n",
      "(\n",
      "(((\n",
      "(*>\n",
      "(*_*)\n",
      "(-8\n",
      "(-:\n",
      "(-;\n",
      "(-_-)\n",
      "(-d\n",
      "(._.)\n",
      "(13\n",
      "(46\n",
      "(:\n",
      "(;\n",
      "(=\n",
      "(>_<)\n",
      "(RU\n",
      "(^_^)\n",
      "(o:\n",
      "(x:\n",
      "(x_x)\n",
      "(¬_¬)\n",
      "(не\n",
      "(ಠ_ಠ)\n",
      "(╯°□°）╯︵┻━┻\n",
      ")\n",
      ")))\n",
      "),2\n",
      "),6\n",
      "),7\n",
      "),а\n",
      "),в\n",
      "),и\n",
      "),я\n",
      ")-:\n",
      ")-α\n",
      ")/¯\n",
      ")10\n",
      ")11\n",
      ")14\n",
      ")15\n",
      ")17\n",
      ")18\n",
      ")26\n",
      ")27\n",
      ")38\n",
      ")52\n",
      "):\n",
      ")oo\n",
      ")te\n",
      ")УК\n",
      ")до\n",
      ")за\n",
      ")из\n",
      ")на\n",
      ")не\n",
      ")об\n",
      ")от\n",
      ")по\n",
      ")со\n",
      ")—с\n",
      "*\n",
      "**\n",
      "***\n",
      "****\n",
      "*****\n",
      "******\n",
      "*******\n",
      "********\n",
      "*********\n",
      "**********\n",
      "***********\n",
      "**T\n",
      "**k\n",
      "**t\n",
      "**к\n",
      "**ц\n",
      "**ь\n",
      "*ck\n",
      "*кс\n",
      "*но\n",
      "*ня\n",
      "*ть\n",
      "*ха\n",
      "*∞.\n",
      "+\n",
      "+0,4\n",
      "+0,44\n",
      "+0,461\n",
      "+0,5\n",
      "+0,67\n",
      "+0,800\n",
      "+01\n",
      "+1\n",
      "+1,247\n",
      "+10\n",
      "+11,0\n",
      "+1121,7\n",
      "+12\n",
      "+12,0\n",
      "+13\n",
      "+1392,4процента\n",
      "+14\n",
      "+15,7\n",
      "+16\n",
      "+16,3\n",
      "+16,5\n",
      "+16,6\n",
      "+17\n",
      "+17,2\n",
      "+17,4\n",
      "+18,3\n",
      "+19,8\n",
      "+199\n",
      "+2\n",
      "+2,22\n",
      "+2,55\n",
      "+2.13\n",
      "+208,4\n",
      "+22\n",
      "+22,5\n",
      "+22,8\n",
      "+25,1\n"
     ]
    }
   ],
   "source": [
    "for i, v in zip(range(200), nlp.vocab.strings):\n",
    "    print(v)"
   ],
   "metadata": {
    "collapsed": false,
    "pycharm": {
     "name": "#%%\n"
    }
   }
  },
  {
   "cell_type": "code",
   "execution_count": null,
   "outputs": [],
   "source": [],
   "metadata": {
    "collapsed": false,
    "pycharm": {
     "name": "#%%\n"
    }
   }
  },
  {
   "cell_type": "code",
   "execution_count": 65,
   "outputs": [
    {
     "data": {
      "text/plain": "array([ 0.3115113 ,  0.44723773,  0.2927711 , -0.08193989,  0.65852875,\n        0.24990997, -0.01321907,  0.03579395, -0.0397919 ,  0.00846115,\n       -0.19385363, -0.30856264,  0.48339844,  0.5171593 , -0.30986997,\n       -0.11273943, -0.30481702, -0.29939577, -0.4605594 , -0.13705982,\n        0.14892071, -0.50242025,  0.16587807, -0.356318  ,  0.6144839 ,\n        0.12309833,  0.04950386, -0.27280375, -0.07573223,  0.26447412,\n       -0.5405152 , -0.3780761 ,  0.05937437, -0.05946463, -0.2638484 ,\n       -0.4107988 ,  0.6627084 , -0.1732102 ,  0.07823543,  0.5322704 ,\n        0.3022431 ,  0.03572848, -0.23910548,  0.6096994 ,  0.33430415,\n       -0.01237269, -0.53597087, -0.34309852,  0.574828  ,  0.7090885 ,\n       -0.3714245 , -0.6455978 , -0.20198114, -0.25229174, -0.30185157,\n        0.9179885 ,  0.25823915, -0.31244898, -0.08696886, -0.9744559 ,\n        0.6017569 , -0.10821367,  0.05855813, -0.12316786,  0.37892154,\n        0.24959418, -0.28320184, -0.37297174, -0.7606852 ,  0.6232817 ,\n        0.32594115,  0.3620671 , -0.08618468,  0.86324954,  0.04632694,\n       -0.10479537,  0.31036624,  0.3133895 ,  0.01379247,  0.30359268,\n        0.44308746,  0.06458997, -0.22777633,  0.1027967 , -0.6504399 ,\n        0.10662064,  0.4213445 ,  0.19130899,  0.19300623,  0.04376318,\n        0.12875053, -0.4385233 ,  0.18336882, -0.96724343,  0.15399799,\n        0.04179098, -0.28351504, -0.03289839,  0.23490897,  0.01637654,\n        0.59412295,  0.03193809,  0.2898026 , -0.49535942, -0.0580908 ,\n        0.27926493,  0.23353331, -0.07698971,  0.01457671,  0.5697824 ,\n        0.37631142,  0.21159407, -0.4534067 , -0.0354589 ,  0.29360834,\n        0.0363479 ,  0.22075066, -0.5077588 ,  0.03244111, -0.22843161,\n        0.28195268,  0.17665787, -0.28210852,  0.01739059, -0.06308096,\n       -0.2962863 ,  0.1161418 ,  0.00741666, -0.06036012, -0.28671798,\n       -0.6359783 ,  0.00753447,  0.4440507 ,  0.09658012, -0.1214051 ,\n       -0.13588957,  0.11754694,  0.20673853, -0.6657518 , -0.17250533,\n       -0.9380328 ,  0.14767893, -0.07693961, -0.32516202,  0.04024563,\n       -0.22032431,  0.2906469 , -0.57681614, -0.04231891,  0.10584055,\n       -0.06861488, -0.669588  ,  0.08242792,  0.5466008 , -0.6659906 ,\n        0.29415214,  0.5765081 , -0.52224785, -0.3032483 ,  0.20795718,\n       -0.5249271 ,  0.6760064 ,  0.8041556 , -0.5359332 ,  0.18505652,\n       -0.07973526, -0.01330254, -0.61445594, -0.4245621 ,  0.39124158,\n        0.13708913,  0.08173577, -0.37542564,  0.02389484, -0.51182723,\n       -0.22586285,  0.34691113,  0.19102076, -0.8524259 ,  0.29090545,\n        0.6849508 , -0.34943044, -0.2774678 , -0.13683034,  0.09473185,\n       -0.3211771 , -0.22486308, -0.5154507 ,  0.0831358 ,  0.5691674 ,\n        0.38796487, -0.4143701 ,  0.28849554, -0.1207294 , -0.28186265,\n       -0.70780987,  0.64383805, -0.35893652,  0.22839913, -0.44500247,\n        0.13634884, -0.98025066, -0.16184922,  0.04639902,  0.24778292,\n       -0.00512729, -0.20079349, -0.53741705,  0.06882977,  0.7506692 ,\n        0.0274688 , -0.51482147,  0.37281892,  0.2531973 , -0.47382805,\n       -0.2539363 , -0.80912906,  0.07187677, -0.17309883, -0.4682938 ,\n       -0.30256957, -0.09504151,  0.6191848 ,  0.3350324 , -0.33762422,\n       -0.29868424,  0.42073673, -0.79686505, -0.05167544, -0.43994683,\n       -0.46133614,  0.5278869 , -0.25591278, -0.22477607, -0.07336895,\n       -0.03089416,  0.17681012, -0.19763523, -0.4683683 ,  0.00647235,\n       -0.50865406, -0.22209048, -0.09660459, -0.2377631 ,  0.3160248 ,\n        0.45306602, -0.03898915, -0.32580116, -0.20800872, -0.6222411 ,\n       -0.12580726, -0.17236672, -0.47072655, -0.42733192,  0.6877837 ,\n       -0.7219329 , -0.27319983, -0.19963244, -0.02547215,  0.19701381,\n       -0.1540947 , -0.28592432, -0.02302179, -0.302817  , -0.3412373 ,\n        0.24245329,  0.25524914,  0.5507376 ,  0.24531953,  0.01507818,\n       -0.5123778 , -0.07329738, -0.22899012,  0.16234732,  0.44564304,\n        0.13978174,  0.04293229, -0.40389952,  0.09240172,  0.47292134,\n        0.10222708,  0.526566  ,  0.30197102, -0.09746777,  0.53647745,\n        0.12479827, -0.02020216,  0.25838387,  0.13939613,  0.21035889,\n        0.32421404,  0.42517337,  0.16350657,  0.18897313,  0.11883301,\n        0.4769276 ,  0.4405371 ,  0.32531607,  0.2628401 ,  0.10769032],\n      dtype=float32)"
     },
     "execution_count": 65,
     "metadata": {},
     "output_type": "execute_result"
    }
   ],
   "source": [
    "nlp.vocab.vectors[4827572099774953261]"
   ],
   "metadata": {
    "collapsed": false,
    "pycharm": {
     "name": "#%%\n"
    }
   }
  },
  {
   "cell_type": "code",
   "execution_count": 63,
   "outputs": [
    {
     "data": {
      "text/plain": "4827572099774953261"
     },
     "execution_count": 63,
     "metadata": {},
     "output_type": "execute_result"
    }
   ],
   "source": [
    "nlp.vocab.vectors.strings['процента']"
   ],
   "metadata": {
    "collapsed": false,
    "pycharm": {
     "name": "#%%\n"
    }
   }
  },
  {
   "cell_type": "code",
   "execution_count": 79,
   "outputs": [
    {
     "data": {
      "text/plain": "'процента'"
     },
     "execution_count": 79,
     "metadata": {},
     "output_type": "execute_result"
    }
   ],
   "source": [
    "nlp.vocab.vectors.strings.('процента')"
   ],
   "metadata": {
    "collapsed": false,
    "pycharm": {
     "name": "#%%\n"
    }
   }
  },
  {
   "cell_type": "code",
   "execution_count": 66,
   "outputs": [
    {
     "data": {
      "text/plain": "911544"
     },
     "execution_count": 66,
     "metadata": {},
     "output_type": "execute_result"
    }
   ],
   "source": [
    "len([s for s in nlp.vocab.strings])"
   ],
   "metadata": {
    "collapsed": false,
    "pycharm": {
     "name": "#%%\n"
    }
   }
  },
  {
   "cell_type": "code",
   "execution_count": 5,
   "outputs": [
    {
     "data": {
      "text/plain": "numpy.ndarray"
     },
     "execution_count": 5,
     "metadata": {},
     "output_type": "execute_result"
    }
   ],
   "source": [
    "type(nlp.vocab.vectors[4827572099774953261])"
   ],
   "metadata": {
    "collapsed": false,
    "pycharm": {
     "name": "#%%\n"
    }
   }
  },
  {
   "cell_type": "code",
   "execution_count": 43,
   "outputs": [
    {
     "data": {
      "text/plain": "500002"
     },
     "execution_count": 43,
     "metadata": {},
     "output_type": "execute_result"
    }
   ],
   "source": [
    "len([v for v in nlp.vocab.vectors])"
   ],
   "metadata": {
    "collapsed": false,
    "pycharm": {
     "name": "#%%\n"
    }
   }
  },
  {
   "cell_type": "code",
   "execution_count": 101,
   "outputs": [],
   "source": [
    "# emb_vectors = []\n",
    "emb = {}\n",
    "emb_strings = []\n",
    "\n",
    "for idx, v_key in enumerate(nlp.vocab.vectors):\n",
    "    # emb_vectors.append(nlp.vocab.vectors[v_key])\n",
    "    # emb_strings.append(nlp.vocab.strings[v_key])\n",
    "    emb[v_key] = nlp.vocab.vectors[v_key]"
   ],
   "metadata": {
    "collapsed": false,
    "pycharm": {
     "name": "#%%\n"
    }
   }
  },
  {
   "cell_type": "code",
   "execution_count": 100,
   "outputs": [
    {
     "data": {
      "text/plain": "True"
     },
     "execution_count": 100,
     "metadata": {},
     "output_type": "execute_result"
    }
   ],
   "source": [
    "all(emb[4827572099774953261] == nlp.vocab.vectors[4827572099774953261])"
   ],
   "metadata": {
    "collapsed": false,
    "pycharm": {
     "name": "#%%\n"
    }
   }
  },
  {
   "cell_type": "code",
   "execution_count": 96,
   "outputs": [],
   "source": [
    "from tensorflow.keras.layers import Embedding\n",
    "from tensorflow.keras import Sequential\n",
    "from tensorflow.keras.initializers import Constant"
   ],
   "metadata": {
    "collapsed": false,
    "pycharm": {
     "name": "#%%\n"
    }
   }
  },
  {
   "cell_type": "code",
   "execution_count": 102,
   "outputs": [
    {
     "ename": "ValueError",
     "evalue": "Attempt to convert a value (<error computing repr()>) with an unsupported type (<class 'dict'>) to a Tensor.",
     "output_type": "error",
     "traceback": [
      "\u001B[1;31m---------------------------------------------------------------------------\u001B[0m",
      "\u001B[1;31mValueError\u001B[0m                                Traceback (most recent call last)",
      "\u001B[1;32m~\\AppData\\Local\\Temp/ipykernel_12792/1124477186.py\u001B[0m in \u001B[0;36m<module>\u001B[1;34m\u001B[0m\n\u001B[1;32m----> 1\u001B[1;33m e = Sequential([\n\u001B[0m\u001B[0;32m      2\u001B[0m     Embedding(\n\u001B[0;32m      3\u001B[0m         \u001B[0minput_dim\u001B[0m\u001B[1;33m=\u001B[0m\u001B[0mlen\u001B[0m\u001B[1;33m(\u001B[0m\u001B[0memb\u001B[0m\u001B[1;33m)\u001B[0m\u001B[1;33m,\u001B[0m\u001B[1;33m\u001B[0m\u001B[1;33m\u001B[0m\u001B[0m\n\u001B[0;32m      4\u001B[0m         \u001B[0moutput_dim\u001B[0m\u001B[1;33m=\u001B[0m\u001B[1;36m300\u001B[0m\u001B[1;33m,\u001B[0m\u001B[1;33m\u001B[0m\u001B[1;33m\u001B[0m\u001B[0m\n\u001B[0;32m      5\u001B[0m         \u001B[0mtrainable\u001B[0m\u001B[1;33m=\u001B[0m\u001B[1;32mFalse\u001B[0m\u001B[1;33m,\u001B[0m\u001B[1;33m\u001B[0m\u001B[1;33m\u001B[0m\u001B[0m\n",
      "\u001B[1;32m~\\projects\\jobviz\\venv\\lib\\site-packages\\tensorflow\\python\\training\\tracking\\base.py\u001B[0m in \u001B[0;36m_method_wrapper\u001B[1;34m(self, *args, **kwargs)\u001B[0m\n\u001B[0;32m    528\u001B[0m     \u001B[0mself\u001B[0m\u001B[1;33m.\u001B[0m\u001B[0m_self_setattr_tracking\u001B[0m \u001B[1;33m=\u001B[0m \u001B[1;32mFalse\u001B[0m  \u001B[1;31m# pylint: disable=protected-access\u001B[0m\u001B[1;33m\u001B[0m\u001B[1;33m\u001B[0m\u001B[0m\n\u001B[0;32m    529\u001B[0m     \u001B[1;32mtry\u001B[0m\u001B[1;33m:\u001B[0m\u001B[1;33m\u001B[0m\u001B[1;33m\u001B[0m\u001B[0m\n\u001B[1;32m--> 530\u001B[1;33m       \u001B[0mresult\u001B[0m \u001B[1;33m=\u001B[0m \u001B[0mmethod\u001B[0m\u001B[1;33m(\u001B[0m\u001B[0mself\u001B[0m\u001B[1;33m,\u001B[0m \u001B[1;33m*\u001B[0m\u001B[0margs\u001B[0m\u001B[1;33m,\u001B[0m \u001B[1;33m**\u001B[0m\u001B[0mkwargs\u001B[0m\u001B[1;33m)\u001B[0m\u001B[1;33m\u001B[0m\u001B[1;33m\u001B[0m\u001B[0m\n\u001B[0m\u001B[0;32m    531\u001B[0m     \u001B[1;32mfinally\u001B[0m\u001B[1;33m:\u001B[0m\u001B[1;33m\u001B[0m\u001B[1;33m\u001B[0m\u001B[0m\n\u001B[0;32m    532\u001B[0m       \u001B[0mself\u001B[0m\u001B[1;33m.\u001B[0m\u001B[0m_self_setattr_tracking\u001B[0m \u001B[1;33m=\u001B[0m \u001B[0mprevious_value\u001B[0m  \u001B[1;31m# pylint: disable=protected-access\u001B[0m\u001B[1;33m\u001B[0m\u001B[1;33m\u001B[0m\u001B[0m\n",
      "\u001B[1;32m~\\projects\\jobviz\\venv\\lib\\site-packages\\keras\\utils\\traceback_utils.py\u001B[0m in \u001B[0;36merror_handler\u001B[1;34m(*args, **kwargs)\u001B[0m\n\u001B[0;32m     65\u001B[0m     \u001B[1;32mexcept\u001B[0m \u001B[0mException\u001B[0m \u001B[1;32mas\u001B[0m \u001B[0me\u001B[0m\u001B[1;33m:\u001B[0m  \u001B[1;31m# pylint: disable=broad-except\u001B[0m\u001B[1;33m\u001B[0m\u001B[1;33m\u001B[0m\u001B[0m\n\u001B[0;32m     66\u001B[0m       \u001B[0mfiltered_tb\u001B[0m \u001B[1;33m=\u001B[0m \u001B[0m_process_traceback_frames\u001B[0m\u001B[1;33m(\u001B[0m\u001B[0me\u001B[0m\u001B[1;33m.\u001B[0m\u001B[0m__traceback__\u001B[0m\u001B[1;33m)\u001B[0m\u001B[1;33m\u001B[0m\u001B[1;33m\u001B[0m\u001B[0m\n\u001B[1;32m---> 67\u001B[1;33m       \u001B[1;32mraise\u001B[0m \u001B[0me\u001B[0m\u001B[1;33m.\u001B[0m\u001B[0mwith_traceback\u001B[0m\u001B[1;33m(\u001B[0m\u001B[0mfiltered_tb\u001B[0m\u001B[1;33m)\u001B[0m \u001B[1;32mfrom\u001B[0m \u001B[1;32mNone\u001B[0m\u001B[1;33m\u001B[0m\u001B[1;33m\u001B[0m\u001B[0m\n\u001B[0m\u001B[0;32m     68\u001B[0m     \u001B[1;32mfinally\u001B[0m\u001B[1;33m:\u001B[0m\u001B[1;33m\u001B[0m\u001B[1;33m\u001B[0m\u001B[0m\n\u001B[0;32m     69\u001B[0m       \u001B[1;32mdel\u001B[0m \u001B[0mfiltered_tb\u001B[0m\u001B[1;33m\u001B[0m\u001B[1;33m\u001B[0m\u001B[0m\n",
      "\u001B[1;32m~\\projects\\jobviz\\venv\\lib\\site-packages\\keras\\initializers\\initializers_v2.py\u001B[0m in \u001B[0;36m__call__\u001B[1;34m(***failed resolving arguments***)\u001B[0m\n\u001B[0;32m    223\u001B[0m     \"\"\"\n\u001B[0;32m    224\u001B[0m     \u001B[1;32mdel\u001B[0m \u001B[0mkwargs\u001B[0m\u001B[1;33m\u001B[0m\u001B[1;33m\u001B[0m\u001B[0m\n\u001B[1;32m--> 225\u001B[1;33m     return tf.constant(\n\u001B[0m\u001B[0;32m    226\u001B[0m         self.value, dtype=_get_dtype(dtype), shape=shape)\n\u001B[0;32m    227\u001B[0m \u001B[1;33m\u001B[0m\u001B[0m\n",
      "\u001B[1;31mValueError\u001B[0m: Attempt to convert a value (<error computing repr()>) with an unsupported type (<class 'dict'>) to a Tensor."
     ]
    }
   ],
   "source": [
    "e = Sequential([\n",
    "    Embedding(\n",
    "        input_dim=len(emb),\n",
    "        output_dim=300,\n",
    "        trainable=False,\n",
    "        input_length=1,\n",
    "        embeddings_initializer=Constant(emb)\n",
    "    )\n",
    "])\n",
    "e.compile('rmsprop', 'mse')"
   ],
   "metadata": {
    "collapsed": false,
    "pycharm": {
     "name": "#%%\n"
    }
   }
  },
  {
   "cell_type": "code",
   "execution_count": null,
   "outputs": [],
   "source": [
    "e.predict([4827572099774953261])"
   ],
   "metadata": {
    "collapsed": false,
    "pycharm": {
     "name": "#%%\n"
    }
   }
  },
  {
   "cell_type": "code",
   "execution_count": 99,
   "outputs": [
    {
     "data": {
      "text/plain": "array([ 4.58010919e-02,  8.69858146e-01, -1.62920266e-01,  7.47544095e-02,\n        1.98092774e-01, -3.56788218e-01, -2.79213935e-01,  2.66844600e-01,\n        2.39079997e-01,  1.40115246e-01,  4.31698561e-02, -3.53502110e-02,\n       -3.55942249e-01,  1.32684618e-01,  1.38216883e-01, -2.40492195e-01,\n       -3.08985591e-01,  1.95398793e-01,  1.31086648e-01,  7.97636360e-02,\n        8.49877894e-02, -1.25370063e-02, -4.59028967e-02,  2.01247826e-01,\n        3.21312606e-01,  3.07695568e-01,  4.22754474e-02, -7.62399197e-01,\n       -4.70209926e-01,  3.73112075e-02, -3.29722911e-01, -1.22051969e-01,\n       -7.53759921e-01, -3.22171658e-01,  1.12429924e-01,  6.14879746e-03,\n       -3.07813883e-01, -1.51750296e-01,  1.42015278e-01,  2.83567101e-01,\n        6.43486902e-02, -5.28099686e-02,  2.00429872e-01, -3.09738755e-01,\n       -2.20154166e-01, -2.62519896e-01, -3.20098996e-01, -4.77824569e-01,\n        2.80545000e-02,  2.26785600e-01, -2.78403491e-01,  1.02936909e-01,\n       -1.17708027e-01,  6.40926138e-02,  1.38331071e-01,  6.01890795e-02,\n        1.44212067e-01,  1.74331799e-01,  9.51019898e-02,  4.83361655e-04,\n        1.57454107e-02,  1.26055062e-01,  2.20760018e-01, -1.69914633e-01,\n        8.83228779e-02,  2.20621541e-01,  5.84582053e-03,  1.61966532e-01,\n        1.04731850e-01, -3.13013904e-02,  5.48452996e-02, -7.43473694e-02,\n        3.59968305e-01, -2.66709983e-01, -3.78482081e-02, -2.57862080e-02,\n       -3.30279380e-01, -1.26090348e-01, -2.14710817e-01, -9.47215408e-02,\n        3.85348976e-01, -1.82025298e-01, -6.69590710e-03,  7.95860067e-02,\n       -2.60625243e-01,  2.23266557e-02,  4.34603274e-01, -1.76599458e-01,\n       -1.34096861e-01,  1.19134095e-02, -6.00633442e-01,  1.56473406e-02,\n        1.64083794e-01, -1.77669212e-01, -8.56861174e-02, -6.66065142e-03,\n       -9.05115753e-02, -4.35865745e-02,  3.59981181e-03,  3.89099985e-01,\n        4.14223939e-01, -6.56921193e-02,  1.90469995e-01,  1.61131043e-02,\n       -1.35371655e-01, -1.46672517e-01,  1.28599271e-01,  2.88352463e-02,\n       -2.34072268e-01, -1.03026062e-01, -4.53229621e-02, -1.80138230e-01,\n       -2.47627169e-01, -2.45549113e-01,  1.03569262e-01, -9.64311045e-03,\n       -5.01946360e-02, -3.20421368e-01, -1.31919309e-01, -3.23204339e-01,\n        8.82701278e-02,  1.69191491e-02, -3.95883210e-02, -3.15716535e-01,\n        1.13309093e-01,  4.73586842e-02, -1.00913085e-01, -2.44202659e-01,\n       -1.82129428e-01,  3.53823245e-01,  3.42301518e-01,  7.85946399e-02,\n       -3.83881211e-01,  3.40857580e-02,  5.45604452e-02,  2.20579267e-01,\n       -1.27153367e-01,  1.03472009e-01,  5.69807142e-02,  1.83907360e-01,\n        2.19624043e-02,  1.54003799e-01,  1.76120609e-01,  7.53709674e-02,\n        1.58348560e-01,  2.76169032e-01, -1.61220059e-01, -9.79085714e-02,\n        3.44530851e-01,  5.05850241e-02, -3.37103844e-01, -1.81447491e-01,\n        1.53714582e-01,  1.08152740e-01,  4.63122725e-02, -4.57303554e-01,\n       -1.46091357e-01,  1.19247057e-01,  4.96968776e-01,  2.25739345e-01,\n       -4.80581701e-01, -4.51465882e-02,  9.23712701e-02, -3.98743451e-01,\n        9.62669477e-02,  2.55398929e-01, -2.08734766e-01,  9.69569609e-02,\n       -2.11866975e-01,  6.76736832e-02,  6.64208899e-04, -8.51419121e-02,\n       -1.89879257e-02, -4.30609792e-01,  2.76784301e-01,  1.02624558e-01,\n       -8.16513449e-02, -1.27138942e-01,  2.86746204e-01,  9.24105793e-02,\n        2.00095132e-01,  7.16413036e-02, -4.71035153e-01, -1.25956044e-01,\n        1.89229678e-02, -1.60236731e-01,  8.13595772e-01,  2.68084198e-01,\n        1.80171564e-01, -9.32313725e-02, -4.13616449e-01, -3.47171426e-01,\n        2.85710841e-02,  1.44606695e-01,  5.63580617e-02, -5.21760993e-02,\n       -3.09512824e-01, -6.92076012e-02, -1.50200740e-01,  4.39759433e-01,\n       -1.95702747e-01, -4.45610493e-01,  7.23593175e-01,  2.63497621e-01,\n       -2.00212210e-01, -1.63211644e-01, -1.52339339e-01, -3.22985910e-02,\n        1.17763162e-01,  3.42825055e-02,  2.37966582e-01, -1.94843262e-01,\n       -3.73260230e-02,  6.53997436e-03, -1.05878621e-01, -1.41767338e-01,\n       -3.48670214e-01, -1.96646675e-01, -8.23932812e-02, -1.29505396e-01,\n       -4.23728913e-01, -7.76032731e-02,  7.29793757e-02, -5.53833731e-02,\n       -2.65399873e-01, -1.89123955e-02, -2.98850477e-01, -3.72213393e-01,\n       -2.05381528e-01,  1.14332691e-01,  8.83002728e-02,  5.25151528e-02,\n        2.21897308e-02, -1.75271109e-01, -1.73126429e-01,  1.95476741e-01,\n       -2.28176713e-02,  4.04679567e-01,  4.26041722e-01,  1.69605672e-01,\n       -8.40343237e-02, -2.24003270e-01,  1.41158417e-01,  1.49354823e-02,\n       -1.74050748e-01, -8.80303308e-02, -3.33109200e-02,  1.03131548e-01,\n       -1.46819606e-01,  7.09647834e-01,  3.21876258e-01, -5.81414215e-02,\n        1.98438719e-01,  9.00314469e-03,  1.32295862e-01,  1.38528004e-01,\n       -1.76338226e-01, -2.75802881e-01, -3.43246847e-01, -2.26168126e-01,\n       -1.65445507e-01,  1.96519867e-01,  5.60328886e-02, -1.29165173e-01,\n       -2.91085303e-01,  8.66233855e-02, -1.70909807e-01,  2.67692022e-02,\n       -8.14597011e-02,  3.02412957e-01,  3.22431684e-01,  1.36400476e-01,\n        1.13702334e-01,  1.83861405e-02,  6.09137565e-02, -1.95038378e-01,\n       -2.12618839e-02, -3.16843763e-02, -3.32799666e-02,  3.95710319e-01,\n        8.15371722e-02,  3.75827476e-02, -3.05813998e-01, -2.15329543e-01,\n        1.91949695e-01, -1.16436772e-01, -2.08498016e-01, -4.12027724e-02,\n       -2.99547642e-01, -3.20820808e-01, -1.80401415e-01, -7.99187347e-02,\n        9.39189047e-02,  1.06625386e-01, -1.12056017e-01,  5.80643155e-02,\n        2.27422938e-01,  3.51579130e-01, -1.82563499e-01, -3.21755379e-01],\n      dtype=float32)"
     },
     "execution_count": 99,
     "metadata": {},
     "output_type": "execute_result"
    }
   ],
   "source": [
    "emb_vectors[1]"
   ],
   "metadata": {
    "collapsed": false,
    "pycharm": {
     "name": "#%%\n"
    }
   }
  },
  {
   "cell_type": "markdown",
   "source": [],
   "metadata": {
    "collapsed": false
   }
  },
  {
   "cell_type": "code",
   "execution_count": 3,
   "outputs": [
    {
     "data": {
      "text/plain": "'<'"
     },
     "execution_count": 3,
     "metadata": {},
     "output_type": "execute_result"
    }
   ],
   "source": [
    "nlp.vocab.strings[3623639567105129204]"
   ],
   "metadata": {
    "collapsed": false,
    "pycharm": {
     "name": "#%%\n"
    }
   }
  },
  {
   "cell_type": "code",
   "execution_count": 8,
   "outputs": [],
   "source": [
    "from tensorflow.keras import Sequential\n",
    "from tensorflow.keras.layers import Embedding\n",
    "from tensorflow.keras.initializers import Constant\n",
    "from src.embeddings import embedding_matrix, strings\n",
    "from src.settings import MAX_DESCRIPTION_WORD_COUNT"
   ],
   "metadata": {
    "collapsed": false,
    "pycharm": {
     "name": "#%%\n"
    }
   }
  },
  {
   "cell_type": "code",
   "execution_count": 6,
   "outputs": [],
   "source": [
    "s = Sequential([Embedding(\n",
    "    input_dim=embedding_matrix.shape[0],\n",
    "    output_dim=embedding_matrix.shape[1],\n",
    "    input_length=MAX_DESCRIPTION_WORD_COUNT,\n",
    "    embeddings_initializer=Constant(embedding_matrix),\n",
    "    trainable=False\n",
    "), ])"
   ],
   "metadata": {
    "collapsed": false,
    "pycharm": {
     "name": "#%%\n"
    }
   }
  },
  {
   "cell_type": "code",
   "execution_count": 10,
   "outputs": [
    {
     "data": {
      "text/plain": "'professional'"
     },
     "execution_count": 10,
     "metadata": {},
     "output_type": "execute_result"
    }
   ],
   "source": [
    "a = strings[9923]\n",
    "a"
   ],
   "metadata": {
    "collapsed": false,
    "pycharm": {
     "name": "#%%\n"
    }
   }
  },
  {
   "cell_type": "code",
   "execution_count": 14,
   "outputs": [
    {
     "data": {
      "text/plain": "True"
     },
     "execution_count": 14,
     "metadata": {},
     "output_type": "execute_result"
    }
   ],
   "source": [
    "(s.predict([9923]) == embedding_matrix[9923]).all()"
   ],
   "metadata": {
    "collapsed": false,
    "pycharm": {
     "name": "#%%\n"
    }
   }
  }
 ],
 "metadata": {
  "kernelspec": {
   "display_name": "Python 3 (ipykernel)",
   "language": "python",
   "name": "python3"
  },
  "language_info": {
   "codemirror_mode": {
    "name": "ipython",
    "version": 3
   },
   "file_extension": ".py",
   "mimetype": "text/x-python",
   "name": "python",
   "nbconvert_exporter": "python",
   "pygments_lexer": "ipython3",
   "version": "3.9.6"
  }
 },
 "nbformat": 4,
 "nbformat_minor": 1
}